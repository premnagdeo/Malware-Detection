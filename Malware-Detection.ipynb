{
  "nbformat": 4,
  "nbformat_minor": 0,
  "metadata": {
    "colab": {
      "name": "Malware-Detection.ipynb",
      "provenance": [],
      "toc_visible": true
    },
    "kernelspec": {
      "name": "python3",
      "display_name": "Python 3"
    },
    "accelerator": "GPU"
  },
  "cells": [
    {
      "cell_type": "markdown",
      "metadata": {
        "id": "tpVg4InFqbMn"
      },
      "source": [
        "## Fetch the Dataset"
      ]
    },
    {
      "cell_type": "code",
      "metadata": {
        "id": "p2gURJ4_Sodh",
        "outputId": "94d45189-bd52-4fa1-e14a-bee25875f67a",
        "colab": {
          "base_uri": "https://localhost:8080/",
          "height": 51
        }
      },
      "source": [
        "! git clone https://github.com/premnagdeo/Malware-Detection.git\n",
        "% cd Malware-Detection"
      ],
      "execution_count": 1,
      "outputs": [
        {
          "output_type": "stream",
          "text": [
            "fatal: destination path 'Malware-Detection' already exists and is not an empty directory.\n",
            "/content/Malware-Detection\n"
          ],
          "name": "stdout"
        }
      ]
    },
    {
      "cell_type": "code",
      "metadata": {
        "id": "a0VYub3FqArq",
        "outputId": "cce7f21f-5328-43c9-a9ce-d6b373e7a3e5",
        "colab": {
          "base_uri": "https://localhost:8080/",
          "height": 122
        }
      },
      "source": [
        "!pip install scikit-learn==0.23.2"
      ],
      "execution_count": 2,
      "outputs": [
        {
          "output_type": "stream",
          "text": [
            "Requirement already satisfied: scikit-learn==0.23.2 in /usr/local/lib/python3.6/dist-packages (0.23.2)\n",
            "Requirement already satisfied: threadpoolctl>=2.0.0 in /usr/local/lib/python3.6/dist-packages (from scikit-learn==0.23.2) (2.1.0)\n",
            "Requirement already satisfied: scipy>=0.19.1 in /usr/local/lib/python3.6/dist-packages (from scikit-learn==0.23.2) (1.4.1)\n",
            "Requirement already satisfied: joblib>=0.11 in /usr/local/lib/python3.6/dist-packages (from scikit-learn==0.23.2) (0.16.0)\n",
            "Requirement already satisfied: numpy>=1.13.3 in /usr/local/lib/python3.6/dist-packages (from scikit-learn==0.23.2) (1.18.5)\n"
          ],
          "name": "stdout"
        }
      ]
    },
    {
      "cell_type": "markdown",
      "metadata": {
        "id": "rxsXAyiZnM8n"
      },
      "source": [
        "## Import Libraries"
      ]
    },
    {
      "cell_type": "code",
      "metadata": {
        "id": "yLlKkpgxT-_0"
      },
      "source": [
        "import pandas\n",
        "import numpy\n",
        "import matplotlib.pyplot as plt\n",
        "\n",
        "import sklearn.ensemble as ek\n",
        "from sklearn.feature_selection import SelectFromModel\n",
        "\n",
        "from sklearn.model_selection import train_test_split\n",
        "from sklearn.tree import plot_tree\n",
        "from sklearn.metrics import confusion_matrix, plot_confusion_matrix"
      ],
      "execution_count": 3,
      "outputs": []
    },
    {
      "cell_type": "markdown",
      "metadata": {
        "id": "UVkCFZQQUDX9"
      },
      "source": [
        "##Load the Dataset"
      ]
    },
    {
      "cell_type": "code",
      "metadata": {
        "id": "8_TGfMElUE-p"
      },
      "source": [
        "dataset = pandas.read_csv('data.csv',sep='|', low_memory=False)"
      ],
      "execution_count": 4,
      "outputs": []
    },
    {
      "cell_type": "markdown",
      "metadata": {
        "id": "pwqXWpijUmba"
      },
      "source": [
        "### Exploring the Dataset"
      ]
    },
    {
      "cell_type": "code",
      "metadata": {
        "id": "5v6Ypb4LUHqB",
        "outputId": "b811f6b2-307c-4663-e113-a25f43a7012e",
        "colab": {
          "base_uri": "https://localhost:8080/",
          "height": 224
        }
      },
      "source": [
        "dataset.head()"
      ],
      "execution_count": 5,
      "outputs": [
        {
          "output_type": "execute_result",
          "data": {
            "text/html": [
              "<div>\n",
              "<style scoped>\n",
              "    .dataframe tbody tr th:only-of-type {\n",
              "        vertical-align: middle;\n",
              "    }\n",
              "\n",
              "    .dataframe tbody tr th {\n",
              "        vertical-align: top;\n",
              "    }\n",
              "\n",
              "    .dataframe thead th {\n",
              "        text-align: right;\n",
              "    }\n",
              "</style>\n",
              "<table border=\"1\" class=\"dataframe\">\n",
              "  <thead>\n",
              "    <tr style=\"text-align: right;\">\n",
              "      <th></th>\n",
              "      <th>Name</th>\n",
              "      <th>md5</th>\n",
              "      <th>Machine</th>\n",
              "      <th>SizeOfOptionalHeader</th>\n",
              "      <th>Characteristics</th>\n",
              "      <th>MajorLinkerVersion</th>\n",
              "      <th>MinorLinkerVersion</th>\n",
              "      <th>SizeOfCode</th>\n",
              "      <th>SizeOfInitializedData</th>\n",
              "      <th>SizeOfUninitializedData</th>\n",
              "      <th>AddressOfEntryPoint</th>\n",
              "      <th>BaseOfCode</th>\n",
              "      <th>BaseOfData</th>\n",
              "      <th>ImageBase</th>\n",
              "      <th>SectionAlignment</th>\n",
              "      <th>FileAlignment</th>\n",
              "      <th>MajorOperatingSystemVersion</th>\n",
              "      <th>MinorOperatingSystemVersion</th>\n",
              "      <th>MajorImageVersion</th>\n",
              "      <th>MinorImageVersion</th>\n",
              "      <th>MajorSubsystemVersion</th>\n",
              "      <th>MinorSubsystemVersion</th>\n",
              "      <th>SizeOfImage</th>\n",
              "      <th>SizeOfHeaders</th>\n",
              "      <th>CheckSum</th>\n",
              "      <th>Subsystem</th>\n",
              "      <th>DllCharacteristics</th>\n",
              "      <th>SizeOfStackReserve</th>\n",
              "      <th>SizeOfStackCommit</th>\n",
              "      <th>SizeOfHeapReserve</th>\n",
              "      <th>SizeOfHeapCommit</th>\n",
              "      <th>LoaderFlags</th>\n",
              "      <th>NumberOfRvaAndSizes</th>\n",
              "      <th>SectionsNb</th>\n",
              "      <th>SectionsMeanEntropy</th>\n",
              "      <th>SectionsMinEntropy</th>\n",
              "      <th>SectionsMaxEntropy</th>\n",
              "      <th>SectionsMeanRawsize</th>\n",
              "      <th>SectionsMinRawsize</th>\n",
              "      <th>SectionMaxRawsize</th>\n",
              "      <th>SectionsMeanVirtualsize</th>\n",
              "      <th>SectionsMinVirtualsize</th>\n",
              "      <th>SectionMaxVirtualsize</th>\n",
              "      <th>ImportsNbDLL</th>\n",
              "      <th>ImportsNb</th>\n",
              "      <th>ImportsNbOrdinal</th>\n",
              "      <th>ExportNb</th>\n",
              "      <th>ResourcesNb</th>\n",
              "      <th>ResourcesMeanEntropy</th>\n",
              "      <th>ResourcesMinEntropy</th>\n",
              "      <th>ResourcesMaxEntropy</th>\n",
              "      <th>ResourcesMeanSize</th>\n",
              "      <th>ResourcesMinSize</th>\n",
              "      <th>ResourcesMaxSize</th>\n",
              "      <th>LoadConfigurationSize</th>\n",
              "      <th>VersionInformationSize</th>\n",
              "      <th>legitimate</th>\n",
              "    </tr>\n",
              "  </thead>\n",
              "  <tbody>\n",
              "    <tr>\n",
              "      <th>0</th>\n",
              "      <td>memtest.exe</td>\n",
              "      <td>631ea355665f28d4707448e442fbf5b8</td>\n",
              "      <td>332</td>\n",
              "      <td>224</td>\n",
              "      <td>258</td>\n",
              "      <td>9</td>\n",
              "      <td>0</td>\n",
              "      <td>361984</td>\n",
              "      <td>115712</td>\n",
              "      <td>0</td>\n",
              "      <td>6135</td>\n",
              "      <td>4096</td>\n",
              "      <td>372736</td>\n",
              "      <td>4194304</td>\n",
              "      <td>4096</td>\n",
              "      <td>512</td>\n",
              "      <td>0</td>\n",
              "      <td>0</td>\n",
              "      <td>0</td>\n",
              "      <td>0</td>\n",
              "      <td>1</td>\n",
              "      <td>0</td>\n",
              "      <td>1036288</td>\n",
              "      <td>1024</td>\n",
              "      <td>485887</td>\n",
              "      <td>16</td>\n",
              "      <td>1024</td>\n",
              "      <td>1048576</td>\n",
              "      <td>4096</td>\n",
              "      <td>1048576</td>\n",
              "      <td>4096</td>\n",
              "      <td>0</td>\n",
              "      <td>16</td>\n",
              "      <td>8</td>\n",
              "      <td>5.766807</td>\n",
              "      <td>3.607430</td>\n",
              "      <td>7.221051</td>\n",
              "      <td>59712.0</td>\n",
              "      <td>1024</td>\n",
              "      <td>325120</td>\n",
              "      <td>126875.875</td>\n",
              "      <td>896</td>\n",
              "      <td>551848</td>\n",
              "      <td>0</td>\n",
              "      <td>0</td>\n",
              "      <td>0</td>\n",
              "      <td>0</td>\n",
              "      <td>4</td>\n",
              "      <td>3.262823</td>\n",
              "      <td>2.568844</td>\n",
              "      <td>3.537939</td>\n",
              "      <td>8797.000000</td>\n",
              "      <td>216</td>\n",
              "      <td>18032</td>\n",
              "      <td>0</td>\n",
              "      <td>16</td>\n",
              "      <td>1</td>\n",
              "    </tr>\n",
              "    <tr>\n",
              "      <th>1</th>\n",
              "      <td>ose.exe</td>\n",
              "      <td>9d10f99a6712e28f8acd5641e3a7ea6b</td>\n",
              "      <td>332</td>\n",
              "      <td>224</td>\n",
              "      <td>3330</td>\n",
              "      <td>9</td>\n",
              "      <td>0</td>\n",
              "      <td>130560</td>\n",
              "      <td>19968</td>\n",
              "      <td>0</td>\n",
              "      <td>81778</td>\n",
              "      <td>4096</td>\n",
              "      <td>143360</td>\n",
              "      <td>771751936</td>\n",
              "      <td>4096</td>\n",
              "      <td>512</td>\n",
              "      <td>5</td>\n",
              "      <td>1</td>\n",
              "      <td>0</td>\n",
              "      <td>0</td>\n",
              "      <td>5</td>\n",
              "      <td>1</td>\n",
              "      <td>159744</td>\n",
              "      <td>1024</td>\n",
              "      <td>188943</td>\n",
              "      <td>2</td>\n",
              "      <td>33088</td>\n",
              "      <td>1048576</td>\n",
              "      <td>4096</td>\n",
              "      <td>1048576</td>\n",
              "      <td>4096</td>\n",
              "      <td>0</td>\n",
              "      <td>16</td>\n",
              "      <td>4</td>\n",
              "      <td>4.839688</td>\n",
              "      <td>2.373525</td>\n",
              "      <td>6.566909</td>\n",
              "      <td>35584.0</td>\n",
              "      <td>2048</td>\n",
              "      <td>130560</td>\n",
              "      <td>37322.000</td>\n",
              "      <td>1840</td>\n",
              "      <td>130296</td>\n",
              "      <td>7</td>\n",
              "      <td>181</td>\n",
              "      <td>0</td>\n",
              "      <td>0</td>\n",
              "      <td>2</td>\n",
              "      <td>4.250461</td>\n",
              "      <td>3.420744</td>\n",
              "      <td>5.080177</td>\n",
              "      <td>837.000000</td>\n",
              "      <td>518</td>\n",
              "      <td>1156</td>\n",
              "      <td>72</td>\n",
              "      <td>18</td>\n",
              "      <td>1</td>\n",
              "    </tr>\n",
              "    <tr>\n",
              "      <th>2</th>\n",
              "      <td>setup.exe</td>\n",
              "      <td>4d92f518527353c0db88a70fddcfd390</td>\n",
              "      <td>332</td>\n",
              "      <td>224</td>\n",
              "      <td>3330</td>\n",
              "      <td>9</td>\n",
              "      <td>0</td>\n",
              "      <td>517120</td>\n",
              "      <td>621568</td>\n",
              "      <td>0</td>\n",
              "      <td>350896</td>\n",
              "      <td>4096</td>\n",
              "      <td>811008</td>\n",
              "      <td>771751936</td>\n",
              "      <td>4096</td>\n",
              "      <td>512</td>\n",
              "      <td>5</td>\n",
              "      <td>1</td>\n",
              "      <td>0</td>\n",
              "      <td>0</td>\n",
              "      <td>5</td>\n",
              "      <td>1</td>\n",
              "      <td>1150976</td>\n",
              "      <td>1024</td>\n",
              "      <td>1159817</td>\n",
              "      <td>2</td>\n",
              "      <td>32832</td>\n",
              "      <td>1048576</td>\n",
              "      <td>4096</td>\n",
              "      <td>1048576</td>\n",
              "      <td>4096</td>\n",
              "      <td>0</td>\n",
              "      <td>16</td>\n",
              "      <td>4</td>\n",
              "      <td>6.409558</td>\n",
              "      <td>4.885191</td>\n",
              "      <td>7.600957</td>\n",
              "      <td>273408.0</td>\n",
              "      <td>21504</td>\n",
              "      <td>517120</td>\n",
              "      <td>284498.000</td>\n",
              "      <td>21456</td>\n",
              "      <td>516760</td>\n",
              "      <td>14</td>\n",
              "      <td>235</td>\n",
              "      <td>21</td>\n",
              "      <td>1</td>\n",
              "      <td>11</td>\n",
              "      <td>4.426324</td>\n",
              "      <td>2.846449</td>\n",
              "      <td>5.271813</td>\n",
              "      <td>31102.272727</td>\n",
              "      <td>104</td>\n",
              "      <td>270376</td>\n",
              "      <td>72</td>\n",
              "      <td>18</td>\n",
              "      <td>1</td>\n",
              "    </tr>\n",
              "    <tr>\n",
              "      <th>3</th>\n",
              "      <td>DW20.EXE</td>\n",
              "      <td>a41e524f8d45f0074fd07805ff0c9b12</td>\n",
              "      <td>332</td>\n",
              "      <td>224</td>\n",
              "      <td>258</td>\n",
              "      <td>9</td>\n",
              "      <td>0</td>\n",
              "      <td>585728</td>\n",
              "      <td>369152</td>\n",
              "      <td>0</td>\n",
              "      <td>451258</td>\n",
              "      <td>4096</td>\n",
              "      <td>798720</td>\n",
              "      <td>771751936</td>\n",
              "      <td>4096</td>\n",
              "      <td>512</td>\n",
              "      <td>5</td>\n",
              "      <td>1</td>\n",
              "      <td>0</td>\n",
              "      <td>0</td>\n",
              "      <td>5</td>\n",
              "      <td>1</td>\n",
              "      <td>962560</td>\n",
              "      <td>1024</td>\n",
              "      <td>867570</td>\n",
              "      <td>2</td>\n",
              "      <td>33088</td>\n",
              "      <td>1048576</td>\n",
              "      <td>4096</td>\n",
              "      <td>1048576</td>\n",
              "      <td>4096</td>\n",
              "      <td>0</td>\n",
              "      <td>16</td>\n",
              "      <td>4</td>\n",
              "      <td>6.641731</td>\n",
              "      <td>5.642565</td>\n",
              "      <td>7.594929</td>\n",
              "      <td>207872.0</td>\n",
              "      <td>15360</td>\n",
              "      <td>585728</td>\n",
              "      <td>238502.000</td>\n",
              "      <td>15208</td>\n",
              "      <td>585488</td>\n",
              "      <td>15</td>\n",
              "      <td>360</td>\n",
              "      <td>6</td>\n",
              "      <td>1</td>\n",
              "      <td>10</td>\n",
              "      <td>4.364291</td>\n",
              "      <td>2.669314</td>\n",
              "      <td>6.400720</td>\n",
              "      <td>1457.000000</td>\n",
              "      <td>90</td>\n",
              "      <td>4264</td>\n",
              "      <td>72</td>\n",
              "      <td>18</td>\n",
              "      <td>1</td>\n",
              "    </tr>\n",
              "    <tr>\n",
              "      <th>4</th>\n",
              "      <td>dwtrig20.exe</td>\n",
              "      <td>c87e561258f2f8650cef999bf643a731</td>\n",
              "      <td>332</td>\n",
              "      <td>224</td>\n",
              "      <td>258</td>\n",
              "      <td>9</td>\n",
              "      <td>0</td>\n",
              "      <td>294912</td>\n",
              "      <td>247296</td>\n",
              "      <td>0</td>\n",
              "      <td>217381</td>\n",
              "      <td>4096</td>\n",
              "      <td>536576</td>\n",
              "      <td>771751936</td>\n",
              "      <td>4096</td>\n",
              "      <td>512</td>\n",
              "      <td>5</td>\n",
              "      <td>1</td>\n",
              "      <td>0</td>\n",
              "      <td>0</td>\n",
              "      <td>5</td>\n",
              "      <td>1</td>\n",
              "      <td>552960</td>\n",
              "      <td>1024</td>\n",
              "      <td>579287</td>\n",
              "      <td>2</td>\n",
              "      <td>33088</td>\n",
              "      <td>1048576</td>\n",
              "      <td>4096</td>\n",
              "      <td>1048576</td>\n",
              "      <td>4096</td>\n",
              "      <td>0</td>\n",
              "      <td>16</td>\n",
              "      <td>4</td>\n",
              "      <td>6.252684</td>\n",
              "      <td>4.182282</td>\n",
              "      <td>7.608305</td>\n",
              "      <td>128128.0</td>\n",
              "      <td>2560</td>\n",
              "      <td>294912</td>\n",
              "      <td>135350.000</td>\n",
              "      <td>2320</td>\n",
              "      <td>294816</td>\n",
              "      <td>10</td>\n",
              "      <td>194</td>\n",
              "      <td>4</td>\n",
              "      <td>1</td>\n",
              "      <td>2</td>\n",
              "      <td>4.306100</td>\n",
              "      <td>3.421598</td>\n",
              "      <td>5.190603</td>\n",
              "      <td>1074.500000</td>\n",
              "      <td>849</td>\n",
              "      <td>1300</td>\n",
              "      <td>72</td>\n",
              "      <td>18</td>\n",
              "      <td>1</td>\n",
              "    </tr>\n",
              "  </tbody>\n",
              "</table>\n",
              "</div>"
            ],
            "text/plain": [
              "           Name  ... legitimate\n",
              "0   memtest.exe  ...          1\n",
              "1       ose.exe  ...          1\n",
              "2     setup.exe  ...          1\n",
              "3      DW20.EXE  ...          1\n",
              "4  dwtrig20.exe  ...          1\n",
              "\n",
              "[5 rows x 57 columns]"
            ]
          },
          "metadata": {
            "tags": []
          },
          "execution_count": 5
        }
      ]
    },
    {
      "cell_type": "code",
      "metadata": {
        "id": "oJAfVce2UfrA",
        "outputId": "77f6a6e4-cfe4-47c8-80fd-161fbf049181",
        "colab": {
          "base_uri": "https://localhost:8080/",
          "height": 317
        }
      },
      "source": [
        "dataset.describe()"
      ],
      "execution_count": 6,
      "outputs": [
        {
          "output_type": "execute_result",
          "data": {
            "text/html": [
              "<div>\n",
              "<style scoped>\n",
              "    .dataframe tbody tr th:only-of-type {\n",
              "        vertical-align: middle;\n",
              "    }\n",
              "\n",
              "    .dataframe tbody tr th {\n",
              "        vertical-align: top;\n",
              "    }\n",
              "\n",
              "    .dataframe thead th {\n",
              "        text-align: right;\n",
              "    }\n",
              "</style>\n",
              "<table border=\"1\" class=\"dataframe\">\n",
              "  <thead>\n",
              "    <tr style=\"text-align: right;\">\n",
              "      <th></th>\n",
              "      <th>Machine</th>\n",
              "      <th>SizeOfOptionalHeader</th>\n",
              "      <th>Characteristics</th>\n",
              "      <th>MajorLinkerVersion</th>\n",
              "      <th>MinorLinkerVersion</th>\n",
              "      <th>SizeOfCode</th>\n",
              "      <th>SizeOfInitializedData</th>\n",
              "      <th>SizeOfUninitializedData</th>\n",
              "      <th>AddressOfEntryPoint</th>\n",
              "      <th>BaseOfCode</th>\n",
              "      <th>BaseOfData</th>\n",
              "      <th>ImageBase</th>\n",
              "      <th>SectionAlignment</th>\n",
              "      <th>FileAlignment</th>\n",
              "      <th>MajorOperatingSystemVersion</th>\n",
              "      <th>MinorOperatingSystemVersion</th>\n",
              "      <th>MajorImageVersion</th>\n",
              "      <th>MinorImageVersion</th>\n",
              "      <th>MajorSubsystemVersion</th>\n",
              "      <th>MinorSubsystemVersion</th>\n",
              "      <th>SizeOfImage</th>\n",
              "      <th>SizeOfHeaders</th>\n",
              "      <th>CheckSum</th>\n",
              "      <th>Subsystem</th>\n",
              "      <th>DllCharacteristics</th>\n",
              "      <th>SizeOfStackReserve</th>\n",
              "      <th>SizeOfStackCommit</th>\n",
              "      <th>SizeOfHeapReserve</th>\n",
              "      <th>SizeOfHeapCommit</th>\n",
              "      <th>LoaderFlags</th>\n",
              "      <th>NumberOfRvaAndSizes</th>\n",
              "      <th>SectionsNb</th>\n",
              "      <th>SectionsMeanEntropy</th>\n",
              "      <th>SectionsMinEntropy</th>\n",
              "      <th>SectionsMaxEntropy</th>\n",
              "      <th>SectionsMeanRawsize</th>\n",
              "      <th>SectionsMinRawsize</th>\n",
              "      <th>SectionMaxRawsize</th>\n",
              "      <th>SectionsMeanVirtualsize</th>\n",
              "      <th>SectionsMinVirtualsize</th>\n",
              "      <th>SectionMaxVirtualsize</th>\n",
              "      <th>ImportsNbDLL</th>\n",
              "      <th>ImportsNb</th>\n",
              "      <th>ImportsNbOrdinal</th>\n",
              "      <th>ExportNb</th>\n",
              "      <th>ResourcesNb</th>\n",
              "      <th>ResourcesMeanEntropy</th>\n",
              "      <th>ResourcesMinEntropy</th>\n",
              "      <th>ResourcesMaxEntropy</th>\n",
              "      <th>ResourcesMeanSize</th>\n",
              "      <th>ResourcesMinSize</th>\n",
              "      <th>ResourcesMaxSize</th>\n",
              "      <th>LoadConfigurationSize</th>\n",
              "      <th>VersionInformationSize</th>\n",
              "      <th>legitimate</th>\n",
              "    </tr>\n",
              "  </thead>\n",
              "  <tbody>\n",
              "    <tr>\n",
              "      <th>count</th>\n",
              "      <td>138047.000000</td>\n",
              "      <td>138047.000000</td>\n",
              "      <td>138047.000000</td>\n",
              "      <td>138047.000000</td>\n",
              "      <td>138047.000000</td>\n",
              "      <td>1.380470e+05</td>\n",
              "      <td>1.380470e+05</td>\n",
              "      <td>1.380470e+05</td>\n",
              "      <td>1.380470e+05</td>\n",
              "      <td>1.380470e+05</td>\n",
              "      <td>1.380470e+05</td>\n",
              "      <td>1.380470e+05</td>\n",
              "      <td>1.380470e+05</td>\n",
              "      <td>138047.000000</td>\n",
              "      <td>138047.000000</td>\n",
              "      <td>138047.000000</td>\n",
              "      <td>138047.000000</td>\n",
              "      <td>138047.000000</td>\n",
              "      <td>138047.000000</td>\n",
              "      <td>138047.000000</td>\n",
              "      <td>1.380470e+05</td>\n",
              "      <td>138047.000000</td>\n",
              "      <td>1.380470e+05</td>\n",
              "      <td>138047.000000</td>\n",
              "      <td>138047.000000</td>\n",
              "      <td>1.380470e+05</td>\n",
              "      <td>1.380470e+05</td>\n",
              "      <td>1.380470e+05</td>\n",
              "      <td>1.380470e+05</td>\n",
              "      <td>1.380470e+05</td>\n",
              "      <td>1.380470e+05</td>\n",
              "      <td>138047.000000</td>\n",
              "      <td>138047.000000</td>\n",
              "      <td>138047.000000</td>\n",
              "      <td>138047.000000</td>\n",
              "      <td>1.380470e+05</td>\n",
              "      <td>1.380470e+05</td>\n",
              "      <td>1.380470e+05</td>\n",
              "      <td>1.380470e+05</td>\n",
              "      <td>1.380470e+05</td>\n",
              "      <td>1.380470e+05</td>\n",
              "      <td>138047.000000</td>\n",
              "      <td>138047.000000</td>\n",
              "      <td>138047.000000</td>\n",
              "      <td>138047.000000</td>\n",
              "      <td>138047.000000</td>\n",
              "      <td>138047.000000</td>\n",
              "      <td>138047.000000</td>\n",
              "      <td>138047.000000</td>\n",
              "      <td>1.380470e+05</td>\n",
              "      <td>1.380470e+05</td>\n",
              "      <td>1.380470e+05</td>\n",
              "      <td>1.380470e+05</td>\n",
              "      <td>138047.000000</td>\n",
              "      <td>138047.000000</td>\n",
              "    </tr>\n",
              "    <tr>\n",
              "      <th>mean</th>\n",
              "      <td>4259.069274</td>\n",
              "      <td>225.845632</td>\n",
              "      <td>4444.145994</td>\n",
              "      <td>8.619774</td>\n",
              "      <td>3.819286</td>\n",
              "      <td>2.425956e+05</td>\n",
              "      <td>4.504867e+05</td>\n",
              "      <td>1.009525e+05</td>\n",
              "      <td>1.719561e+05</td>\n",
              "      <td>5.779845e+04</td>\n",
              "      <td>2.213743e+05</td>\n",
              "      <td>5.350876e+14</td>\n",
              "      <td>7.323764e+03</td>\n",
              "      <td>694.386694</td>\n",
              "      <td>5.097843</td>\n",
              "      <td>1.092983</td>\n",
              "      <td>68.751983</td>\n",
              "      <td>64.851283</td>\n",
              "      <td>4.861895</td>\n",
              "      <td>1.444602</td>\n",
              "      <td>8.159750e+05</td>\n",
              "      <td>1297.876520</td>\n",
              "      <td>1.797959e+08</td>\n",
              "      <td>2.157403</td>\n",
              "      <td>22312.125283</td>\n",
              "      <td>9.302477e+05</td>\n",
              "      <td>5.445543e+03</td>\n",
              "      <td>1.031958e+06</td>\n",
              "      <td>3.429882e+04</td>\n",
              "      <td>3.608506e+04</td>\n",
              "      <td>7.908762e+04</td>\n",
              "      <td>4.994509</td>\n",
              "      <td>4.637599</td>\n",
              "      <td>2.259625</td>\n",
              "      <td>6.958913</td>\n",
              "      <td>1.871513e+05</td>\n",
              "      <td>1.956488e+04</td>\n",
              "      <td>6.506805e+05</td>\n",
              "      <td>1.884237e+05</td>\n",
              "      <td>2.109837e+04</td>\n",
              "      <td>6.349808e+05</td>\n",
              "      <td>5.462937</td>\n",
              "      <td>113.225648</td>\n",
              "      <td>4.338341</td>\n",
              "      <td>23.674263</td>\n",
              "      <td>22.050700</td>\n",
              "      <td>4.000127</td>\n",
              "      <td>2.434541</td>\n",
              "      <td>5.521610</td>\n",
              "      <td>5.545093e+04</td>\n",
              "      <td>1.818082e+04</td>\n",
              "      <td>2.465903e+05</td>\n",
              "      <td>4.656750e+05</td>\n",
              "      <td>12.363115</td>\n",
              "      <td>0.299340</td>\n",
              "    </tr>\n",
              "    <tr>\n",
              "      <th>std</th>\n",
              "      <td>10880.347245</td>\n",
              "      <td>5.121399</td>\n",
              "      <td>8186.782524</td>\n",
              "      <td>4.088757</td>\n",
              "      <td>11.862675</td>\n",
              "      <td>5.754485e+06</td>\n",
              "      <td>2.101599e+07</td>\n",
              "      <td>1.635288e+07</td>\n",
              "      <td>3.430553e+06</td>\n",
              "      <td>5.527658e+06</td>\n",
              "      <td>2.188020e+06</td>\n",
              "      <td>9.929589e+16</td>\n",
              "      <td>6.257687e+05</td>\n",
              "      <td>1289.921098</td>\n",
              "      <td>99.220192</td>\n",
              "      <td>77.551077</td>\n",
              "      <td>1185.886042</td>\n",
              "      <td>1139.691397</td>\n",
              "      <td>0.647720</td>\n",
              "      <td>181.180393</td>\n",
              "      <td>6.530065e+06</td>\n",
              "      <td>5595.523021</td>\n",
              "      <td>5.976192e+08</td>\n",
              "      <td>0.452940</td>\n",
              "      <td>15440.574817</td>\n",
              "      <td>5.550081e+05</td>\n",
              "      <td>1.804724e+04</td>\n",
              "      <td>1.817744e+05</td>\n",
              "      <td>7.906877e+06</td>\n",
              "      <td>8.904748e+06</td>\n",
              "      <td>1.466901e+07</td>\n",
              "      <td>1.915329</td>\n",
              "      <td>1.099464</td>\n",
              "      <td>1.831893</td>\n",
              "      <td>1.044297</td>\n",
              "      <td>7.735218e+06</td>\n",
              "      <td>3.540868e+05</td>\n",
              "      <td>3.007226e+07</td>\n",
              "      <td>4.180153e+06</td>\n",
              "      <td>3.543141e+05</td>\n",
              "      <td>1.285463e+07</td>\n",
              "      <td>4.362811</td>\n",
              "      <td>123.134704</td>\n",
              "      <td>34.776745</td>\n",
              "      <td>252.093958</td>\n",
              "      <td>136.494244</td>\n",
              "      <td>1.112981</td>\n",
              "      <td>0.815577</td>\n",
              "      <td>1.597403</td>\n",
              "      <td>7.799163e+06</td>\n",
              "      <td>6.502369e+06</td>\n",
              "      <td>2.124860e+07</td>\n",
              "      <td>2.608987e+07</td>\n",
              "      <td>6.798878</td>\n",
              "      <td>0.457971</td>\n",
              "    </tr>\n",
              "    <tr>\n",
              "      <th>min</th>\n",
              "      <td>332.000000</td>\n",
              "      <td>224.000000</td>\n",
              "      <td>2.000000</td>\n",
              "      <td>0.000000</td>\n",
              "      <td>0.000000</td>\n",
              "      <td>0.000000e+00</td>\n",
              "      <td>0.000000e+00</td>\n",
              "      <td>0.000000e+00</td>\n",
              "      <td>0.000000e+00</td>\n",
              "      <td>0.000000e+00</td>\n",
              "      <td>0.000000e+00</td>\n",
              "      <td>6.553600e+04</td>\n",
              "      <td>1.600000e+01</td>\n",
              "      <td>16.000000</td>\n",
              "      <td>0.000000</td>\n",
              "      <td>0.000000</td>\n",
              "      <td>0.000000</td>\n",
              "      <td>0.000000</td>\n",
              "      <td>1.000000</td>\n",
              "      <td>0.000000</td>\n",
              "      <td>0.000000e+00</td>\n",
              "      <td>448.000000</td>\n",
              "      <td>0.000000e+00</td>\n",
              "      <td>1.000000</td>\n",
              "      <td>0.000000</td>\n",
              "      <td>0.000000e+00</td>\n",
              "      <td>0.000000e+00</td>\n",
              "      <td>0.000000e+00</td>\n",
              "      <td>0.000000e+00</td>\n",
              "      <td>0.000000e+00</td>\n",
              "      <td>7.000000e+00</td>\n",
              "      <td>1.000000</td>\n",
              "      <td>0.000000</td>\n",
              "      <td>0.000000</td>\n",
              "      <td>0.000000</td>\n",
              "      <td>6.400000e+01</td>\n",
              "      <td>0.000000e+00</td>\n",
              "      <td>6.400000e+01</td>\n",
              "      <td>0.000000e+00</td>\n",
              "      <td>0.000000e+00</td>\n",
              "      <td>0.000000e+00</td>\n",
              "      <td>0.000000</td>\n",
              "      <td>0.000000</td>\n",
              "      <td>0.000000</td>\n",
              "      <td>0.000000</td>\n",
              "      <td>0.000000</td>\n",
              "      <td>0.000000</td>\n",
              "      <td>0.000000</td>\n",
              "      <td>0.000000</td>\n",
              "      <td>0.000000e+00</td>\n",
              "      <td>0.000000e+00</td>\n",
              "      <td>0.000000e+00</td>\n",
              "      <td>0.000000e+00</td>\n",
              "      <td>0.000000</td>\n",
              "      <td>0.000000</td>\n",
              "    </tr>\n",
              "    <tr>\n",
              "      <th>25%</th>\n",
              "      <td>332.000000</td>\n",
              "      <td>224.000000</td>\n",
              "      <td>258.000000</td>\n",
              "      <td>8.000000</td>\n",
              "      <td>0.000000</td>\n",
              "      <td>3.020800e+04</td>\n",
              "      <td>2.457600e+04</td>\n",
              "      <td>0.000000e+00</td>\n",
              "      <td>1.272100e+04</td>\n",
              "      <td>4.096000e+03</td>\n",
              "      <td>2.867200e+04</td>\n",
              "      <td>4.194304e+06</td>\n",
              "      <td>4.096000e+03</td>\n",
              "      <td>512.000000</td>\n",
              "      <td>4.000000</td>\n",
              "      <td>0.000000</td>\n",
              "      <td>0.000000</td>\n",
              "      <td>0.000000</td>\n",
              "      <td>4.000000</td>\n",
              "      <td>0.000000</td>\n",
              "      <td>1.843200e+05</td>\n",
              "      <td>1024.000000</td>\n",
              "      <td>1.065765e+05</td>\n",
              "      <td>2.000000</td>\n",
              "      <td>320.000000</td>\n",
              "      <td>1.048576e+06</td>\n",
              "      <td>4.096000e+03</td>\n",
              "      <td>1.048576e+06</td>\n",
              "      <td>4.096000e+03</td>\n",
              "      <td>0.000000e+00</td>\n",
              "      <td>1.600000e+01</td>\n",
              "      <td>4.000000</td>\n",
              "      <td>4.001088</td>\n",
              "      <td>0.020393</td>\n",
              "      <td>6.417698</td>\n",
              "      <td>1.868800e+04</td>\n",
              "      <td>5.120000e+02</td>\n",
              "      <td>5.734400e+04</td>\n",
              "      <td>3.587200e+04</td>\n",
              "      <td>3.640000e+02</td>\n",
              "      <td>1.085040e+05</td>\n",
              "      <td>3.000000</td>\n",
              "      <td>67.000000</td>\n",
              "      <td>0.000000</td>\n",
              "      <td>0.000000</td>\n",
              "      <td>5.000000</td>\n",
              "      <td>3.458505</td>\n",
              "      <td>2.178748</td>\n",
              "      <td>4.828706</td>\n",
              "      <td>9.560000e+02</td>\n",
              "      <td>4.800000e+01</td>\n",
              "      <td>2.216000e+03</td>\n",
              "      <td>0.000000e+00</td>\n",
              "      <td>13.000000</td>\n",
              "      <td>0.000000</td>\n",
              "    </tr>\n",
              "    <tr>\n",
              "      <th>50%</th>\n",
              "      <td>332.000000</td>\n",
              "      <td>224.000000</td>\n",
              "      <td>258.000000</td>\n",
              "      <td>9.000000</td>\n",
              "      <td>0.000000</td>\n",
              "      <td>1.136640e+05</td>\n",
              "      <td>2.631680e+05</td>\n",
              "      <td>0.000000e+00</td>\n",
              "      <td>5.288300e+04</td>\n",
              "      <td>4.096000e+03</td>\n",
              "      <td>1.146880e+05</td>\n",
              "      <td>4.194304e+06</td>\n",
              "      <td>4.096000e+03</td>\n",
              "      <td>512.000000</td>\n",
              "      <td>5.000000</td>\n",
              "      <td>1.000000</td>\n",
              "      <td>0.000000</td>\n",
              "      <td>0.000000</td>\n",
              "      <td>5.000000</td>\n",
              "      <td>1.000000</td>\n",
              "      <td>5.160960e+05</td>\n",
              "      <td>1024.000000</td>\n",
              "      <td>5.180260e+05</td>\n",
              "      <td>2.000000</td>\n",
              "      <td>33088.000000</td>\n",
              "      <td>1.048576e+06</td>\n",
              "      <td>4.096000e+03</td>\n",
              "      <td>1.048576e+06</td>\n",
              "      <td>4.096000e+03</td>\n",
              "      <td>0.000000e+00</td>\n",
              "      <td>1.600000e+01</td>\n",
              "      <td>5.000000</td>\n",
              "      <td>4.892993</td>\n",
              "      <td>2.545297</td>\n",
              "      <td>6.687587</td>\n",
              "      <td>8.847360e+04</td>\n",
              "      <td>3.584000e+03</td>\n",
              "      <td>2.529280e+05</td>\n",
              "      <td>1.010430e+05</td>\n",
              "      <td>4.764000e+03</td>\n",
              "      <td>3.308080e+05</td>\n",
              "      <td>4.000000</td>\n",
              "      <td>90.000000</td>\n",
              "      <td>0.000000</td>\n",
              "      <td>0.000000</td>\n",
              "      <td>6.000000</td>\n",
              "      <td>3.729824</td>\n",
              "      <td>2.458492</td>\n",
              "      <td>5.317552</td>\n",
              "      <td>2.708154e+03</td>\n",
              "      <td>4.800000e+01</td>\n",
              "      <td>9.640000e+03</td>\n",
              "      <td>7.200000e+01</td>\n",
              "      <td>15.000000</td>\n",
              "      <td>0.000000</td>\n",
              "    </tr>\n",
              "    <tr>\n",
              "      <th>75%</th>\n",
              "      <td>332.000000</td>\n",
              "      <td>224.000000</td>\n",
              "      <td>8226.000000</td>\n",
              "      <td>10.000000</td>\n",
              "      <td>0.000000</td>\n",
              "      <td>1.203200e+05</td>\n",
              "      <td>3.850240e+05</td>\n",
              "      <td>0.000000e+00</td>\n",
              "      <td>6.157800e+04</td>\n",
              "      <td>4.096000e+03</td>\n",
              "      <td>1.269760e+05</td>\n",
              "      <td>1.003356e+08</td>\n",
              "      <td>4.096000e+03</td>\n",
              "      <td>512.000000</td>\n",
              "      <td>5.000000</td>\n",
              "      <td>1.000000</td>\n",
              "      <td>6.000000</td>\n",
              "      <td>0.000000</td>\n",
              "      <td>5.000000</td>\n",
              "      <td>1.000000</td>\n",
              "      <td>5.283840e+05</td>\n",
              "      <td>1024.000000</td>\n",
              "      <td>5.716305e+05</td>\n",
              "      <td>2.000000</td>\n",
              "      <td>33088.000000</td>\n",
              "      <td>1.048576e+06</td>\n",
              "      <td>4.096000e+03</td>\n",
              "      <td>1.048576e+06</td>\n",
              "      <td>4.096000e+03</td>\n",
              "      <td>0.000000e+00</td>\n",
              "      <td>1.600000e+01</td>\n",
              "      <td>5.000000</td>\n",
              "      <td>5.638913</td>\n",
              "      <td>4.087324</td>\n",
              "      <td>7.963092</td>\n",
              "      <td>1.010688e+05</td>\n",
              "      <td>9.728000e+03</td>\n",
              "      <td>3.307520e+05</td>\n",
              "      <td>1.026358e+05</td>\n",
              "      <td>9.400000e+03</td>\n",
              "      <td>3.397160e+05</td>\n",
              "      <td>8.000000</td>\n",
              "      <td>128.000000</td>\n",
              "      <td>1.000000</td>\n",
              "      <td>0.000000</td>\n",
              "      <td>13.000000</td>\n",
              "      <td>4.233051</td>\n",
              "      <td>2.696833</td>\n",
              "      <td>6.502239</td>\n",
              "      <td>6.558429e+03</td>\n",
              "      <td>1.320000e+02</td>\n",
              "      <td>2.378000e+04</td>\n",
              "      <td>7.200000e+01</td>\n",
              "      <td>16.000000</td>\n",
              "      <td>1.000000</td>\n",
              "    </tr>\n",
              "    <tr>\n",
              "      <th>max</th>\n",
              "      <td>34404.000000</td>\n",
              "      <td>352.000000</td>\n",
              "      <td>49551.000000</td>\n",
              "      <td>255.000000</td>\n",
              "      <td>255.000000</td>\n",
              "      <td>1.818587e+09</td>\n",
              "      <td>4.294966e+09</td>\n",
              "      <td>4.294941e+09</td>\n",
              "      <td>1.074484e+09</td>\n",
              "      <td>2.028711e+09</td>\n",
              "      <td>2.684355e+08</td>\n",
              "      <td>1.844674e+19</td>\n",
              "      <td>1.342177e+08</td>\n",
              "      <td>65536.000000</td>\n",
              "      <td>36868.000000</td>\n",
              "      <td>17757.000000</td>\n",
              "      <td>28619.000000</td>\n",
              "      <td>20512.000000</td>\n",
              "      <td>10.000000</td>\n",
              "      <td>47600.000000</td>\n",
              "      <td>1.410036e+09</td>\n",
              "      <td>786432.000000</td>\n",
              "      <td>4.294967e+09</td>\n",
              "      <td>16.000000</td>\n",
              "      <td>49504.000000</td>\n",
              "      <td>3.355443e+07</td>\n",
              "      <td>2.097152e+06</td>\n",
              "      <td>1.363149e+07</td>\n",
              "      <td>2.077323e+09</td>\n",
              "      <td>2.328298e+09</td>\n",
              "      <td>3.402310e+09</td>\n",
              "      <td>40.000000</td>\n",
              "      <td>7.995558</td>\n",
              "      <td>7.995558</td>\n",
              "      <td>7.999994</td>\n",
              "      <td>1.431642e+09</td>\n",
              "      <td>2.900070e+07</td>\n",
              "      <td>4.294885e+09</td>\n",
              "      <td>1.431673e+09</td>\n",
              "      <td>2.900067e+07</td>\n",
              "      <td>4.294885e+09</td>\n",
              "      <td>280.000000</td>\n",
              "      <td>4432.000000</td>\n",
              "      <td>3450.000000</td>\n",
              "      <td>16596.000000</td>\n",
              "      <td>7694.000000</td>\n",
              "      <td>7.999723</td>\n",
              "      <td>7.999723</td>\n",
              "      <td>8.000000</td>\n",
              "      <td>2.415919e+09</td>\n",
              "      <td>2.415919e+09</td>\n",
              "      <td>4.294903e+09</td>\n",
              "      <td>4.294967e+09</td>\n",
              "      <td>26.000000</td>\n",
              "      <td>1.000000</td>\n",
              "    </tr>\n",
              "  </tbody>\n",
              "</table>\n",
              "</div>"
            ],
            "text/plain": [
              "             Machine  ...     legitimate\n",
              "count  138047.000000  ...  138047.000000\n",
              "mean     4259.069274  ...       0.299340\n",
              "std     10880.347245  ...       0.457971\n",
              "min       332.000000  ...       0.000000\n",
              "25%       332.000000  ...       0.000000\n",
              "50%       332.000000  ...       0.000000\n",
              "75%       332.000000  ...       1.000000\n",
              "max     34404.000000  ...       1.000000\n",
              "\n",
              "[8 rows x 55 columns]"
            ]
          },
          "metadata": {
            "tags": []
          },
          "execution_count": 6
        }
      ]
    },
    {
      "cell_type": "code",
      "metadata": {
        "id": "6VcQrdWCUi3Q",
        "outputId": "88f18a7b-cf2f-41dc-91af-9eead54feb97",
        "colab": {
          "base_uri": "https://localhost:8080/",
          "height": 85
        }
      },
      "source": [
        "dataset.groupby(dataset['legitimate']).size()"
      ],
      "execution_count": 7,
      "outputs": [
        {
          "output_type": "execute_result",
          "data": {
            "text/plain": [
              "legitimate\n",
              "0    96724\n",
              "1    41323\n",
              "dtype: int64"
            ]
          },
          "metadata": {
            "tags": []
          },
          "execution_count": 7
        }
      ]
    },
    {
      "cell_type": "markdown",
      "metadata": {
        "id": "RP0iCiySUx_n"
      },
      "source": [
        "Here 0 = \"Malicious\" and 1 = \"Legitimate\""
      ]
    },
    {
      "cell_type": "markdown",
      "metadata": {
        "id": "tJGyZ_uYVDAQ"
      },
      "source": [
        "#### We do not require the name and md5 digest, hence they are dropped"
      ]
    },
    {
      "cell_type": "markdown",
      "metadata": {
        "id": "_K2Vr8xUVRaQ"
      },
      "source": [
        "Declaring the input variables x and output labels y"
      ]
    },
    {
      "cell_type": "code",
      "metadata": {
        "id": "AYp375n5UlJB"
      },
      "source": [
        "X = dataset.drop(['Name','md5','legitimate'],axis=1).values\n",
        "y = dataset['legitimate'].values"
      ],
      "execution_count": 8,
      "outputs": []
    },
    {
      "cell_type": "markdown",
      "metadata": {
        "id": "WJRitIHfXh3L"
      },
      "source": [
        "### Split Data into Train and Test Set"
      ]
    },
    {
      "cell_type": "markdown",
      "metadata": {
        "id": "8iRX5okmXyjE"
      },
      "source": [
        "Train:Test Split = 80:20"
      ]
    },
    {
      "cell_type": "code",
      "metadata": {
        "id": "hGQ60iSnW_34"
      },
      "source": [
        "X_train, X_test, y_train, y_test = train_test_split(X, y ,test_size=0.2, shuffle=True)"
      ],
      "execution_count": 9,
      "outputs": []
    },
    {
      "cell_type": "code",
      "metadata": {
        "id": "ulVBdy77YdQx",
        "outputId": "9ff17aa1-9096-4596-b914-6fff32eabbbc",
        "colab": {
          "base_uri": "https://localhost:8080/",
          "height": 51
        }
      },
      "source": [
        "print(\"Number of samples in Training Set =\", X_train.shape[0])\n",
        "print(\"Number of samples in Test Set =\", X_test.shape[0])"
      ],
      "execution_count": 10,
      "outputs": [
        {
          "output_type": "stream",
          "text": [
            "Number of samples in Training Set = 110437\n",
            "Number of samples in Test Set = 27610\n"
          ],
          "name": "stdout"
        }
      ]
    },
    {
      "cell_type": "code",
      "metadata": {
        "id": "k4TMmJpLYdyu",
        "outputId": "0b78e97d-01a5-4f15-e5a8-c200a0b076be",
        "colab": {
          "base_uri": "https://localhost:8080/",
          "height": 34
        }
      },
      "source": [
        "forest = ek.RandomForestClassifier(n_estimators=100, oob_score=True,)\n",
        "forest.fit(X_train,y_train)"
      ],
      "execution_count": 11,
      "outputs": [
        {
          "output_type": "execute_result",
          "data": {
            "text/plain": [
              "RandomForestClassifier(oob_score=True)"
            ]
          },
          "metadata": {
            "tags": []
          },
          "execution_count": 11
        }
      ]
    },
    {
      "cell_type": "markdown",
      "metadata": {
        "id": "N2yzI_vsuGdm"
      },
      "source": [
        "## Evaluation of the classifier"
      ]
    },
    {
      "cell_type": "code",
      "metadata": {
        "id": "6KwnwOo1ZpSc",
        "outputId": "7c527ddd-4de7-4f5d-f93c-b01f35be6d87",
        "colab": {
          "base_uri": "https://localhost:8080/",
          "height": 34
        }
      },
      "source": [
        "score = forest.score(X_test,y_test)\n",
        "print(\"Random Forest Accuracy:\", score)"
      ],
      "execution_count": 12,
      "outputs": [
        {
          "output_type": "stream",
          "text": [
            "Random Forest Accuracy: 0.9950742484607027\n"
          ],
          "name": "stdout"
        }
      ]
    },
    {
      "cell_type": "markdown",
      "metadata": {
        "id": "FnOf4W86ibNH"
      },
      "source": [
        "Test for false positives and false negatives"
      ]
    },
    {
      "cell_type": "code",
      "metadata": {
        "id": "yrOrN_pAiaRU",
        "outputId": "75b5f069-64b5-433e-a329-4a91d887616d",
        "colab": {
          "base_uri": "https://localhost:8080/",
          "height": 51
        }
      },
      "source": [
        "predicted = forest.predict(X)\n",
        "matrix = confusion_matrix(y, predicted)\n",
        "false_positive = (matrix[0][1] / float(sum(matrix[0])))*100\n",
        "false_negative = (matrix[1][0] / float(sum(matrix[1])))*100\n",
        "print(\"False positive rate: \" + str(false_positive) + \"%\")\n",
        "print(\"False negative rate: \" + str(false_negative) + \"%\")"
      ],
      "execution_count": 13,
      "outputs": [
        {
          "output_type": "stream",
          "text": [
            "False positive rate: 0.08581117406228031%\n",
            "False negative rate: 0.13551775040534325%\n"
          ],
          "name": "stdout"
        }
      ]
    },
    {
      "cell_type": "markdown",
      "metadata": {
        "id": "s0ISz1R72Lpt"
      },
      "source": [
        "### Plot the Confusion Matrix"
      ]
    },
    {
      "cell_type": "code",
      "metadata": {
        "id": "w0M_nUngq7pc",
        "outputId": "439d159b-5bb4-4e12-e31e-4090c275cae3",
        "colab": {
          "base_uri": "https://localhost:8080/",
          "height": 296
        }
      },
      "source": [
        "confusionmatrix = plot_confusion_matrix(forest, X_test, y_test, values_format='5d')\n",
        "print(\"Model Accuracy: %f\" % forest.score(X_test, y_test))  \n",
        "plt.show()"
      ],
      "execution_count": 14,
      "outputs": [
        {
          "output_type": "stream",
          "text": [
            "Model Accuracy: 0.995074\n"
          ],
          "name": "stdout"
        },
        {
          "output_type": "display_data",
          "data": {
            "image/png": "[encoded data removed]",
            "text/plain": [
              "<Figure size 432x288 with 2 Axes>"
            ]
          },
          "metadata": {
            "tags": [],
            "needs_background": "light"
          }
        }
      ]
    },
    {
      "cell_type": "markdown",
      "metadata": {
        "id": "zghOC1nmrUkB"
      },
      "source": [
        "##Visualizing the first tree in the random forest"
      ]
    },
    {
      "cell_type": "code",
      "metadata": {
        "id": "H6NkOL-1ZzhF",
        "outputId": "a6b84c9d-4c96-4e48-d981-0c5ed4f09371",
        "colab": {
          "base_uri": "https://localhost:8080/",
          "height": 356
        }
      },
      "source": [
        "plt.figure(figsize=(33,12))\n",
        "\n",
        "plot_tree(forest.estimators_[0], max_depth=3, filled=True, proportion=True, rounded=True, fontsize=12)\n",
        "plt.show()"
      ],
      "execution_count": 15,
      "outputs": [
        {
          "output_type": "display_data",
          "data": {
            "image/png": "[encoded data removed]",
            "text/plain": [
              "<Figure size 2376x864 with 1 Axes>"
            ]
          },
          "metadata": {
            "tags": [],
            "needs_background": "light"
          }
        }
      ]
    },
    {
      "cell_type": "markdown",
      "metadata": {
        "id": "AXfmX20Khjxz"
      },
      "source": [
        "## Save the model"
      ]
    },
    {
      "cell_type": "code",
      "metadata": {
        "id": "8fm7y-dfhkve"
      },
      "source": [
        "import pickle\n",
        "\n",
        "pickle.dump(forest, open('model.pkl', 'wb'))"
      ],
      "execution_count": 16,
      "outputs": []
    },
    {
      "cell_type": "markdown",
      "metadata": {
        "id": "T1LVBXayh0A_"
      },
      "source": [
        "## Load the model"
      ]
    },
    {
      "cell_type": "code",
      "metadata": {
        "id": "iE-dOSVphpFA"
      },
      "source": [
        "forest = pickle.load(open('model.pkl', 'rb'))"
      ],
      "execution_count": 17,
      "outputs": []
    },
    {
      "cell_type": "code",
      "metadata": {
        "id": "7fMZxb3Uh2wo",
        "outputId": "5f5dcec8-a455-4052-b657-59d24b3ee19e",
        "colab": {
          "base_uri": "https://localhost:8080/",
          "height": 34
        }
      },
      "source": [
        "print(forest)"
      ],
      "execution_count": 18,
      "outputs": [
        {
          "output_type": "stream",
          "text": [
            "RandomForestClassifier(oob_score=True)\n"
          ],
          "name": "stdout"
        }
      ]
    },
    {
      "cell_type": "code",
      "metadata": {
        "id": "v7vRNt-NiAXB",
        "outputId": "36efe2fc-33b8-4848-eb58-b3cfffbc9b96",
        "colab": {
          "base_uri": "https://localhost:8080/",
          "height": 34
        }
      },
      "source": [
        "print(forest.score(X_test, y_test))"
      ],
      "execution_count": 19,
      "outputs": [
        {
          "output_type": "stream",
          "text": [
            "0.9950742484607027\n"
          ],
          "name": "stdout"
        }
      ]
    },
    {
      "cell_type": "code",
      "metadata": {
        "id": "oD-wze9o3V84"
      },
      "source": [
        ""
      ],
      "execution_count": 19,
      "outputs": []
    }
  ]
}